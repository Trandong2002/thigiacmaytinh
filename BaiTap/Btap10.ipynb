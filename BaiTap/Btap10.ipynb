{
 "cells": [
  {
   "cell_type": "code",
   "execution_count": 3,
   "id": "ecdd3b56-5279-437d-95a1-8202af935d46",
   "metadata": {},
   "outputs": [],
   "source": [
    "# import thư viện\n",
    "from PIL import Image\n",
    "import matplotlib.pyplot as plt"
   ]
  },
  {
   "cell_type": "code",
   "execution_count": 15,
   "id": "4ff05724-3a57-4e47-8920-a5e76e43cfd9",
   "metadata": {},
   "outputs": [
    {
     "name": "stdout",
     "output_type": "stream",
     "text": [
      "[(253.47727272727275, 134.159090909091), (328.9642857142857, 92.76298701298708), (244.9545454545455, 46.496753246753315), (193.8181818181818, 55.01948051948057), (226.69155844155847, 69.62987012987014), (279.04545454545456, 59.889610389610425), (271.7402597402598, 79.37012987012997), (285.13311688311694, 117.11363636363637)]\n"
     ]
    }
   ],
   "source": [
    "# Đường dẫn ảnh\n",
    "my_path = 'C:/Users/HP/Hinhanh/04.JPG' \n",
    "# Đọc ảnh\n",
    "im = Image.open(my_path)\n",
    "\n",
    "# Chuyển đổi backend\n",
    "plt.switch_backend('tkagg')\n",
    "\n",
    "# Hiển thị ảnh\n",
    "plt.imshow(im)\n",
    "plt.title(\"Click on the image to seclect points\")\n",
    "\n",
    "# Sử dụng hàm ginput đã chọn điểm trên ảnh\n",
    "points = plt.ginput(10)\n",
    "\n",
    "print (points)\n",
    "\n",
    "# Hiển thị\n",
    "plt.show()"
   ]
  },
  {
   "cell_type": "code",
   "execution_count": 17,
   "id": "59f2d3e6-7236-4b25-b4e7-57fe2a3d78f1",
   "metadata": {},
   "outputs": [],
   "source": [
    "# Vẽ lại các điểm đã chọn bằng dấu màu đỏ\n",
    "plt.close()\n",
    "# Vẽ lại \n",
    "plt.imshow(im)\n",
    "for point in points:\n",
    "    x, y = point\n",
    "    plt.plot(x, y, 'r*')\n",
    "plt.show()"
   ]
  },
  {
   "cell_type": "code",
   "execution_count": null,
   "id": "2c5aab44-9c60-418d-a673-48eac58b348e",
   "metadata": {},
   "outputs": [],
   "source": []
  }
 ],
 "metadata": {
  "kernelspec": {
   "display_name": "Python 3 (ipykernel)",
   "language": "python",
   "name": "python3"
  },
  "language_info": {
   "codemirror_mode": {
    "name": "ipython",
    "version": 3
   },
   "file_extension": ".py",
   "mimetype": "text/x-python",
   "name": "python",
   "nbconvert_exporter": "python",
   "pygments_lexer": "ipython3",
   "version": "3.12.4"
  }
 },
 "nbformat": 4,
 "nbformat_minor": 5
}
